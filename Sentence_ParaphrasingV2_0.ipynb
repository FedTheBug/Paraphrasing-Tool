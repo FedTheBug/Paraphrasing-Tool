{
  "nbformat": 4,
  "nbformat_minor": 0,
  "metadata": {
    "colab": {
      "name": "Sentence_ParaphrasingV2.0.ipynb",
      "provenance": [],
      "collapsed_sections": []
    },
    "kernelspec": {
      "name": "python3",
      "display_name": "Python 3"
    },
    "widgets": {
      "application/vnd.jupyter.widget-state+json": {
        "31b44b3383414f00a3286b20799935d8": {
          "model_module": "@jupyter-widgets/controls",
          "model_name": "HBoxModel",
          "state": {
            "_view_name": "HBoxView",
            "_dom_classes": [],
            "_model_name": "HBoxModel",
            "_view_module": "@jupyter-widgets/controls",
            "_model_module_version": "1.5.0",
            "_view_count": null,
            "_view_module_version": "1.5.0",
            "box_style": "",
            "layout": "IPY_MODEL_a7ba952cfd6d47259463556f6b352261",
            "_model_module": "@jupyter-widgets/controls",
            "children": [
              "IPY_MODEL_8dc4c5b0267e4b6ea81342174d29a6fc",
              "IPY_MODEL_e1ad1a6a42dd47d3b12f1813d086ff30"
            ]
          }
        },
        "a7ba952cfd6d47259463556f6b352261": {
          "model_module": "@jupyter-widgets/base",
          "model_name": "LayoutModel",
          "state": {
            "_view_name": "LayoutView",
            "grid_template_rows": null,
            "right": null,
            "justify_content": null,
            "_view_module": "@jupyter-widgets/base",
            "overflow": null,
            "_model_module_version": "1.2.0",
            "_view_count": null,
            "flex_flow": null,
            "width": null,
            "min_width": null,
            "border": null,
            "align_items": null,
            "bottom": null,
            "_model_module": "@jupyter-widgets/base",
            "top": null,
            "grid_column": null,
            "overflow_y": null,
            "overflow_x": null,
            "grid_auto_flow": null,
            "grid_area": null,
            "grid_template_columns": null,
            "flex": null,
            "_model_name": "LayoutModel",
            "justify_items": null,
            "grid_row": null,
            "max_height": null,
            "align_content": null,
            "visibility": null,
            "align_self": null,
            "height": null,
            "min_height": null,
            "padding": null,
            "grid_auto_rows": null,
            "grid_gap": null,
            "max_width": null,
            "order": null,
            "_view_module_version": "1.2.0",
            "grid_template_areas": null,
            "object_position": null,
            "object_fit": null,
            "grid_auto_columns": null,
            "margin": null,
            "display": null,
            "left": null
          }
        },
        "8dc4c5b0267e4b6ea81342174d29a6fc": {
          "model_module": "@jupyter-widgets/controls",
          "model_name": "FloatProgressModel",
          "state": {
            "_view_name": "ProgressView",
            "style": "IPY_MODEL_e65196b7943844c7a9cc1855887c8319",
            "_dom_classes": [],
            "description": "Downloading: 100%",
            "_model_name": "FloatProgressModel",
            "bar_style": "success",
            "max": 1912529,
            "_view_module": "@jupyter-widgets/controls",
            "_model_module_version": "1.5.0",
            "value": 1912529,
            "_view_count": null,
            "_view_module_version": "1.5.0",
            "orientation": "horizontal",
            "min": 0,
            "description_tooltip": null,
            "_model_module": "@jupyter-widgets/controls",
            "layout": "IPY_MODEL_e0e1cce0d28c417cb42adab29c8454e2"
          }
        },
        "e1ad1a6a42dd47d3b12f1813d086ff30": {
          "model_module": "@jupyter-widgets/controls",
          "model_name": "HTMLModel",
          "state": {
            "_view_name": "HTMLView",
            "style": "IPY_MODEL_59b336f15cc2469d8a89da4ef1c88806",
            "_dom_classes": [],
            "description": "",
            "_model_name": "HTMLModel",
            "placeholder": "​",
            "_view_module": "@jupyter-widgets/controls",
            "_model_module_version": "1.5.0",
            "value": " 1.91M/1.91M [00:00&lt;00:00, 8.46MB/s]",
            "_view_count": null,
            "_view_module_version": "1.5.0",
            "description_tooltip": null,
            "_model_module": "@jupyter-widgets/controls",
            "layout": "IPY_MODEL_efd0c30581b040e996d42ed80af8f751"
          }
        },
        "e65196b7943844c7a9cc1855887c8319": {
          "model_module": "@jupyter-widgets/controls",
          "model_name": "ProgressStyleModel",
          "state": {
            "_view_name": "StyleView",
            "_model_name": "ProgressStyleModel",
            "description_width": "initial",
            "_view_module": "@jupyter-widgets/base",
            "_model_module_version": "1.5.0",
            "_view_count": null,
            "_view_module_version": "1.2.0",
            "bar_color": null,
            "_model_module": "@jupyter-widgets/controls"
          }
        },
        "e0e1cce0d28c417cb42adab29c8454e2": {
          "model_module": "@jupyter-widgets/base",
          "model_name": "LayoutModel",
          "state": {
            "_view_name": "LayoutView",
            "grid_template_rows": null,
            "right": null,
            "justify_content": null,
            "_view_module": "@jupyter-widgets/base",
            "overflow": null,
            "_model_module_version": "1.2.0",
            "_view_count": null,
            "flex_flow": null,
            "width": null,
            "min_width": null,
            "border": null,
            "align_items": null,
            "bottom": null,
            "_model_module": "@jupyter-widgets/base",
            "top": null,
            "grid_column": null,
            "overflow_y": null,
            "overflow_x": null,
            "grid_auto_flow": null,
            "grid_area": null,
            "grid_template_columns": null,
            "flex": null,
            "_model_name": "LayoutModel",
            "justify_items": null,
            "grid_row": null,
            "max_height": null,
            "align_content": null,
            "visibility": null,
            "align_self": null,
            "height": null,
            "min_height": null,
            "padding": null,
            "grid_auto_rows": null,
            "grid_gap": null,
            "max_width": null,
            "order": null,
            "_view_module_version": "1.2.0",
            "grid_template_areas": null,
            "object_position": null,
            "object_fit": null,
            "grid_auto_columns": null,
            "margin": null,
            "display": null,
            "left": null
          }
        },
        "59b336f15cc2469d8a89da4ef1c88806": {
          "model_module": "@jupyter-widgets/controls",
          "model_name": "DescriptionStyleModel",
          "state": {
            "_view_name": "StyleView",
            "_model_name": "DescriptionStyleModel",
            "description_width": "",
            "_view_module": "@jupyter-widgets/base",
            "_model_module_version": "1.5.0",
            "_view_count": null,
            "_view_module_version": "1.2.0",
            "_model_module": "@jupyter-widgets/controls"
          }
        },
        "efd0c30581b040e996d42ed80af8f751": {
          "model_module": "@jupyter-widgets/base",
          "model_name": "LayoutModel",
          "state": {
            "_view_name": "LayoutView",
            "grid_template_rows": null,
            "right": null,
            "justify_content": null,
            "_view_module": "@jupyter-widgets/base",
            "overflow": null,
            "_model_module_version": "1.2.0",
            "_view_count": null,
            "flex_flow": null,
            "width": null,
            "min_width": null,
            "border": null,
            "align_items": null,
            "bottom": null,
            "_model_module": "@jupyter-widgets/base",
            "top": null,
            "grid_column": null,
            "overflow_y": null,
            "overflow_x": null,
            "grid_auto_flow": null,
            "grid_area": null,
            "grid_template_columns": null,
            "flex": null,
            "_model_name": "LayoutModel",
            "justify_items": null,
            "grid_row": null,
            "max_height": null,
            "align_content": null,
            "visibility": null,
            "align_self": null,
            "height": null,
            "min_height": null,
            "padding": null,
            "grid_auto_rows": null,
            "grid_gap": null,
            "max_width": null,
            "order": null,
            "_view_module_version": "1.2.0",
            "grid_template_areas": null,
            "object_position": null,
            "object_fit": null,
            "grid_auto_columns": null,
            "margin": null,
            "display": null,
            "left": null
          }
        },
        "a051ad19ce8c4f10b479eab174e0fd87": {
          "model_module": "@jupyter-widgets/controls",
          "model_name": "HBoxModel",
          "state": {
            "_view_name": "HBoxView",
            "_dom_classes": [],
            "_model_name": "HBoxModel",
            "_view_module": "@jupyter-widgets/controls",
            "_model_module_version": "1.5.0",
            "_view_count": null,
            "_view_module_version": "1.5.0",
            "box_style": "",
            "layout": "IPY_MODEL_eaaa3c93158943789fa1bb54b9d92077",
            "_model_module": "@jupyter-widgets/controls",
            "children": [
              "IPY_MODEL_662534d4068b48ebadbfe4b62ffc4497",
              "IPY_MODEL_eae056dc7803492d8a806d8367590cfc"
            ]
          }
        },
        "eaaa3c93158943789fa1bb54b9d92077": {
          "model_module": "@jupyter-widgets/base",
          "model_name": "LayoutModel",
          "state": {
            "_view_name": "LayoutView",
            "grid_template_rows": null,
            "right": null,
            "justify_content": null,
            "_view_module": "@jupyter-widgets/base",
            "overflow": null,
            "_model_module_version": "1.2.0",
            "_view_count": null,
            "flex_flow": null,
            "width": null,
            "min_width": null,
            "border": null,
            "align_items": null,
            "bottom": null,
            "_model_module": "@jupyter-widgets/base",
            "top": null,
            "grid_column": null,
            "overflow_y": null,
            "overflow_x": null,
            "grid_auto_flow": null,
            "grid_area": null,
            "grid_template_columns": null,
            "flex": null,
            "_model_name": "LayoutModel",
            "justify_items": null,
            "grid_row": null,
            "max_height": null,
            "align_content": null,
            "visibility": null,
            "align_self": null,
            "height": null,
            "min_height": null,
            "padding": null,
            "grid_auto_rows": null,
            "grid_gap": null,
            "max_width": null,
            "order": null,
            "_view_module_version": "1.2.0",
            "grid_template_areas": null,
            "object_position": null,
            "object_fit": null,
            "grid_auto_columns": null,
            "margin": null,
            "display": null,
            "left": null
          }
        },
        "662534d4068b48ebadbfe4b62ffc4497": {
          "model_module": "@jupyter-widgets/controls",
          "model_name": "FloatProgressModel",
          "state": {
            "_view_name": "ProgressView",
            "style": "IPY_MODEL_581751b062c34ec3b394c83c61b55394",
            "_dom_classes": [],
            "description": "Downloading: 100%",
            "_model_name": "FloatProgressModel",
            "bar_style": "success",
            "max": 65,
            "_view_module": "@jupyter-widgets/controls",
            "_model_module_version": "1.5.0",
            "value": 65,
            "_view_count": null,
            "_view_module_version": "1.5.0",
            "orientation": "horizontal",
            "min": 0,
            "description_tooltip": null,
            "_model_module": "@jupyter-widgets/controls",
            "layout": "IPY_MODEL_80b6fc00d2aa4536ad225c59bc981fa7"
          }
        },
        "eae056dc7803492d8a806d8367590cfc": {
          "model_module": "@jupyter-widgets/controls",
          "model_name": "HTMLModel",
          "state": {
            "_view_name": "HTMLView",
            "style": "IPY_MODEL_44ecd1296d78419e87557629372112e0",
            "_dom_classes": [],
            "description": "",
            "_model_name": "HTMLModel",
            "placeholder": "​",
            "_view_module": "@jupyter-widgets/controls",
            "_model_module_version": "1.5.0",
            "value": " 65.0/65.0 [00:01&lt;00:00, 63.4B/s]",
            "_view_count": null,
            "_view_module_version": "1.5.0",
            "description_tooltip": null,
            "_model_module": "@jupyter-widgets/controls",
            "layout": "IPY_MODEL_d9cf4329efd649e39790e62fe90a186f"
          }
        },
        "581751b062c34ec3b394c83c61b55394": {
          "model_module": "@jupyter-widgets/controls",
          "model_name": "ProgressStyleModel",
          "state": {
            "_view_name": "StyleView",
            "_model_name": "ProgressStyleModel",
            "description_width": "initial",
            "_view_module": "@jupyter-widgets/base",
            "_model_module_version": "1.5.0",
            "_view_count": null,
            "_view_module_version": "1.2.0",
            "bar_color": null,
            "_model_module": "@jupyter-widgets/controls"
          }
        },
        "80b6fc00d2aa4536ad225c59bc981fa7": {
          "model_module": "@jupyter-widgets/base",
          "model_name": "LayoutModel",
          "state": {
            "_view_name": "LayoutView",
            "grid_template_rows": null,
            "right": null,
            "justify_content": null,
            "_view_module": "@jupyter-widgets/base",
            "overflow": null,
            "_model_module_version": "1.2.0",
            "_view_count": null,
            "flex_flow": null,
            "width": null,
            "min_width": null,
            "border": null,
            "align_items": null,
            "bottom": null,
            "_model_module": "@jupyter-widgets/base",
            "top": null,
            "grid_column": null,
            "overflow_y": null,
            "overflow_x": null,
            "grid_auto_flow": null,
            "grid_area": null,
            "grid_template_columns": null,
            "flex": null,
            "_model_name": "LayoutModel",
            "justify_items": null,
            "grid_row": null,
            "max_height": null,
            "align_content": null,
            "visibility": null,
            "align_self": null,
            "height": null,
            "min_height": null,
            "padding": null,
            "grid_auto_rows": null,
            "grid_gap": null,
            "max_width": null,
            "order": null,
            "_view_module_version": "1.2.0",
            "grid_template_areas": null,
            "object_position": null,
            "object_fit": null,
            "grid_auto_columns": null,
            "margin": null,
            "display": null,
            "left": null
          }
        },
        "44ecd1296d78419e87557629372112e0": {
          "model_module": "@jupyter-widgets/controls",
          "model_name": "DescriptionStyleModel",
          "state": {
            "_view_name": "StyleView",
            "_model_name": "DescriptionStyleModel",
            "description_width": "",
            "_view_module": "@jupyter-widgets/base",
            "_model_module_version": "1.5.0",
            "_view_count": null,
            "_view_module_version": "1.2.0",
            "_model_module": "@jupyter-widgets/controls"
          }
        },
        "d9cf4329efd649e39790e62fe90a186f": {
          "model_module": "@jupyter-widgets/base",
          "model_name": "LayoutModel",
          "state": {
            "_view_name": "LayoutView",
            "grid_template_rows": null,
            "right": null,
            "justify_content": null,
            "_view_module": "@jupyter-widgets/base",
            "overflow": null,
            "_model_module_version": "1.2.0",
            "_view_count": null,
            "flex_flow": null,
            "width": null,
            "min_width": null,
            "border": null,
            "align_items": null,
            "bottom": null,
            "_model_module": "@jupyter-widgets/base",
            "top": null,
            "grid_column": null,
            "overflow_y": null,
            "overflow_x": null,
            "grid_auto_flow": null,
            "grid_area": null,
            "grid_template_columns": null,
            "flex": null,
            "_model_name": "LayoutModel",
            "justify_items": null,
            "grid_row": null,
            "max_height": null,
            "align_content": null,
            "visibility": null,
            "align_self": null,
            "height": null,
            "min_height": null,
            "padding": null,
            "grid_auto_rows": null,
            "grid_gap": null,
            "max_width": null,
            "order": null,
            "_view_module_version": "1.2.0",
            "grid_template_areas": null,
            "object_position": null,
            "object_fit": null,
            "grid_auto_columns": null,
            "margin": null,
            "display": null,
            "left": null
          }
        },
        "cee38910cb2d419d93decd4c8636f920": {
          "model_module": "@jupyter-widgets/controls",
          "model_name": "HBoxModel",
          "state": {
            "_view_name": "HBoxView",
            "_dom_classes": [],
            "_model_name": "HBoxModel",
            "_view_module": "@jupyter-widgets/controls",
            "_model_module_version": "1.5.0",
            "_view_count": null,
            "_view_module_version": "1.5.0",
            "box_style": "",
            "layout": "IPY_MODEL_8811a4ee8c6146babc65a87a1852150a",
            "_model_module": "@jupyter-widgets/controls",
            "children": [
              "IPY_MODEL_90a3bda24ebf414cad84a63838c6d044",
              "IPY_MODEL_cf0f2d705d7f4eaca302b2de21f3315e"
            ]
          }
        },
        "8811a4ee8c6146babc65a87a1852150a": {
          "model_module": "@jupyter-widgets/base",
          "model_name": "LayoutModel",
          "state": {
            "_view_name": "LayoutView",
            "grid_template_rows": null,
            "right": null,
            "justify_content": null,
            "_view_module": "@jupyter-widgets/base",
            "overflow": null,
            "_model_module_version": "1.2.0",
            "_view_count": null,
            "flex_flow": null,
            "width": null,
            "min_width": null,
            "border": null,
            "align_items": null,
            "bottom": null,
            "_model_module": "@jupyter-widgets/base",
            "top": null,
            "grid_column": null,
            "overflow_y": null,
            "overflow_x": null,
            "grid_auto_flow": null,
            "grid_area": null,
            "grid_template_columns": null,
            "flex": null,
            "_model_name": "LayoutModel",
            "justify_items": null,
            "grid_row": null,
            "max_height": null,
            "align_content": null,
            "visibility": null,
            "align_self": null,
            "height": null,
            "min_height": null,
            "padding": null,
            "grid_auto_rows": null,
            "grid_gap": null,
            "max_width": null,
            "order": null,
            "_view_module_version": "1.2.0",
            "grid_template_areas": null,
            "object_position": null,
            "object_fit": null,
            "grid_auto_columns": null,
            "margin": null,
            "display": null,
            "left": null
          }
        },
        "90a3bda24ebf414cad84a63838c6d044": {
          "model_module": "@jupyter-widgets/controls",
          "model_name": "FloatProgressModel",
          "state": {
            "_view_name": "ProgressView",
            "style": "IPY_MODEL_9314c70557de4d54b81f45ad6632dac2",
            "_dom_classes": [],
            "description": "Downloading: 100%",
            "_model_name": "FloatProgressModel",
            "bar_style": "success",
            "max": 86,
            "_view_module": "@jupyter-widgets/controls",
            "_model_module_version": "1.5.0",
            "value": 86,
            "_view_count": null,
            "_view_module_version": "1.5.0",
            "orientation": "horizontal",
            "min": 0,
            "description_tooltip": null,
            "_model_module": "@jupyter-widgets/controls",
            "layout": "IPY_MODEL_dcefb303f4fa4d6e947e44ba6d6f3101"
          }
        },
        "cf0f2d705d7f4eaca302b2de21f3315e": {
          "model_module": "@jupyter-widgets/controls",
          "model_name": "HTMLModel",
          "state": {
            "_view_name": "HTMLView",
            "style": "IPY_MODEL_8cb3e95802534b8f895e231c29d316e7",
            "_dom_classes": [],
            "description": "",
            "_model_name": "HTMLModel",
            "placeholder": "​",
            "_view_module": "@jupyter-widgets/controls",
            "_model_module_version": "1.5.0",
            "value": " 86.0/86.0 [00:00&lt;00:00, 134B/s]",
            "_view_count": null,
            "_view_module_version": "1.5.0",
            "description_tooltip": null,
            "_model_module": "@jupyter-widgets/controls",
            "layout": "IPY_MODEL_4bc363ce9ae043a58b3bf0f52f42e3cf"
          }
        },
        "9314c70557de4d54b81f45ad6632dac2": {
          "model_module": "@jupyter-widgets/controls",
          "model_name": "ProgressStyleModel",
          "state": {
            "_view_name": "StyleView",
            "_model_name": "ProgressStyleModel",
            "description_width": "initial",
            "_view_module": "@jupyter-widgets/base",
            "_model_module_version": "1.5.0",
            "_view_count": null,
            "_view_module_version": "1.2.0",
            "bar_color": null,
            "_model_module": "@jupyter-widgets/controls"
          }
        },
        "dcefb303f4fa4d6e947e44ba6d6f3101": {
          "model_module": "@jupyter-widgets/base",
          "model_name": "LayoutModel",
          "state": {
            "_view_name": "LayoutView",
            "grid_template_rows": null,
            "right": null,
            "justify_content": null,
            "_view_module": "@jupyter-widgets/base",
            "overflow": null,
            "_model_module_version": "1.2.0",
            "_view_count": null,
            "flex_flow": null,
            "width": null,
            "min_width": null,
            "border": null,
            "align_items": null,
            "bottom": null,
            "_model_module": "@jupyter-widgets/base",
            "top": null,
            "grid_column": null,
            "overflow_y": null,
            "overflow_x": null,
            "grid_auto_flow": null,
            "grid_area": null,
            "grid_template_columns": null,
            "flex": null,
            "_model_name": "LayoutModel",
            "justify_items": null,
            "grid_row": null,
            "max_height": null,
            "align_content": null,
            "visibility": null,
            "align_self": null,
            "height": null,
            "min_height": null,
            "padding": null,
            "grid_auto_rows": null,
            "grid_gap": null,
            "max_width": null,
            "order": null,
            "_view_module_version": "1.2.0",
            "grid_template_areas": null,
            "object_position": null,
            "object_fit": null,
            "grid_auto_columns": null,
            "margin": null,
            "display": null,
            "left": null
          }
        },
        "8cb3e95802534b8f895e231c29d316e7": {
          "model_module": "@jupyter-widgets/controls",
          "model_name": "DescriptionStyleModel",
          "state": {
            "_view_name": "StyleView",
            "_model_name": "DescriptionStyleModel",
            "description_width": "",
            "_view_module": "@jupyter-widgets/base",
            "_model_module_version": "1.5.0",
            "_view_count": null,
            "_view_module_version": "1.2.0",
            "_model_module": "@jupyter-widgets/controls"
          }
        },
        "4bc363ce9ae043a58b3bf0f52f42e3cf": {
          "model_module": "@jupyter-widgets/base",
          "model_name": "LayoutModel",
          "state": {
            "_view_name": "LayoutView",
            "grid_template_rows": null,
            "right": null,
            "justify_content": null,
            "_view_module": "@jupyter-widgets/base",
            "overflow": null,
            "_model_module_version": "1.2.0",
            "_view_count": null,
            "flex_flow": null,
            "width": null,
            "min_width": null,
            "border": null,
            "align_items": null,
            "bottom": null,
            "_model_module": "@jupyter-widgets/base",
            "top": null,
            "grid_column": null,
            "overflow_y": null,
            "overflow_x": null,
            "grid_auto_flow": null,
            "grid_area": null,
            "grid_template_columns": null,
            "flex": null,
            "_model_name": "LayoutModel",
            "justify_items": null,
            "grid_row": null,
            "max_height": null,
            "align_content": null,
            "visibility": null,
            "align_self": null,
            "height": null,
            "min_height": null,
            "padding": null,
            "grid_auto_rows": null,
            "grid_gap": null,
            "max_width": null,
            "order": null,
            "_view_module_version": "1.2.0",
            "grid_template_areas": null,
            "object_position": null,
            "object_fit": null,
            "grid_auto_columns": null,
            "margin": null,
            "display": null,
            "left": null
          }
        },
        "b6a8df7e5cce4e98b08d704dbefc0912": {
          "model_module": "@jupyter-widgets/controls",
          "model_name": "HBoxModel",
          "state": {
            "_view_name": "HBoxView",
            "_dom_classes": [],
            "_model_name": "HBoxModel",
            "_view_module": "@jupyter-widgets/controls",
            "_model_module_version": "1.5.0",
            "_view_count": null,
            "_view_module_version": "1.5.0",
            "box_style": "",
            "layout": "IPY_MODEL_a7076ce9210042eb86bb81e0419ba9bd",
            "_model_module": "@jupyter-widgets/controls",
            "children": [
              "IPY_MODEL_c9ebc6cbbbc34fa6852d1cf4f3481cf3",
              "IPY_MODEL_4f5aee1132fc471e9a3d65fc618905aa"
            ]
          }
        },
        "a7076ce9210042eb86bb81e0419ba9bd": {
          "model_module": "@jupyter-widgets/base",
          "model_name": "LayoutModel",
          "state": {
            "_view_name": "LayoutView",
            "grid_template_rows": null,
            "right": null,
            "justify_content": null,
            "_view_module": "@jupyter-widgets/base",
            "overflow": null,
            "_model_module_version": "1.2.0",
            "_view_count": null,
            "flex_flow": null,
            "width": null,
            "min_width": null,
            "border": null,
            "align_items": null,
            "bottom": null,
            "_model_module": "@jupyter-widgets/base",
            "top": null,
            "grid_column": null,
            "overflow_y": null,
            "overflow_x": null,
            "grid_auto_flow": null,
            "grid_area": null,
            "grid_template_columns": null,
            "flex": null,
            "_model_name": "LayoutModel",
            "justify_items": null,
            "grid_row": null,
            "max_height": null,
            "align_content": null,
            "visibility": null,
            "align_self": null,
            "height": null,
            "min_height": null,
            "padding": null,
            "grid_auto_rows": null,
            "grid_gap": null,
            "max_width": null,
            "order": null,
            "_view_module_version": "1.2.0",
            "grid_template_areas": null,
            "object_position": null,
            "object_fit": null,
            "grid_auto_columns": null,
            "margin": null,
            "display": null,
            "left": null
          }
        },
        "c9ebc6cbbbc34fa6852d1cf4f3481cf3": {
          "model_module": "@jupyter-widgets/controls",
          "model_name": "FloatProgressModel",
          "state": {
            "_view_name": "ProgressView",
            "style": "IPY_MODEL_765b1c9e4bfc4e13bda94aa6a79376a0",
            "_dom_classes": [],
            "description": "Downloading: 100%",
            "_model_name": "FloatProgressModel",
            "bar_style": "success",
            "max": 1142,
            "_view_module": "@jupyter-widgets/controls",
            "_model_module_version": "1.5.0",
            "value": 1142,
            "_view_count": null,
            "_view_module_version": "1.5.0",
            "orientation": "horizontal",
            "min": 0,
            "description_tooltip": null,
            "_model_module": "@jupyter-widgets/controls",
            "layout": "IPY_MODEL_f05e26a0c9854116a936bd36a3d48ab1"
          }
        },
        "4f5aee1132fc471e9a3d65fc618905aa": {
          "model_module": "@jupyter-widgets/controls",
          "model_name": "HTMLModel",
          "state": {
            "_view_name": "HTMLView",
            "style": "IPY_MODEL_b634021ca9ff46b598261ad39350a770",
            "_dom_classes": [],
            "description": "",
            "_model_name": "HTMLModel",
            "placeholder": "​",
            "_view_module": "@jupyter-widgets/controls",
            "_model_module_version": "1.5.0",
            "value": " 1.14k/1.14k [00:45&lt;00:00, 24.9B/s]",
            "_view_count": null,
            "_view_module_version": "1.5.0",
            "description_tooltip": null,
            "_model_module": "@jupyter-widgets/controls",
            "layout": "IPY_MODEL_512a5e0e7ee74bfba0d3b2652b609911"
          }
        },
        "765b1c9e4bfc4e13bda94aa6a79376a0": {
          "model_module": "@jupyter-widgets/controls",
          "model_name": "ProgressStyleModel",
          "state": {
            "_view_name": "StyleView",
            "_model_name": "ProgressStyleModel",
            "description_width": "initial",
            "_view_module": "@jupyter-widgets/base",
            "_model_module_version": "1.5.0",
            "_view_count": null,
            "_view_module_version": "1.2.0",
            "bar_color": null,
            "_model_module": "@jupyter-widgets/controls"
          }
        },
        "f05e26a0c9854116a936bd36a3d48ab1": {
          "model_module": "@jupyter-widgets/base",
          "model_name": "LayoutModel",
          "state": {
            "_view_name": "LayoutView",
            "grid_template_rows": null,
            "right": null,
            "justify_content": null,
            "_view_module": "@jupyter-widgets/base",
            "overflow": null,
            "_model_module_version": "1.2.0",
            "_view_count": null,
            "flex_flow": null,
            "width": null,
            "min_width": null,
            "border": null,
            "align_items": null,
            "bottom": null,
            "_model_module": "@jupyter-widgets/base",
            "top": null,
            "grid_column": null,
            "overflow_y": null,
            "overflow_x": null,
            "grid_auto_flow": null,
            "grid_area": null,
            "grid_template_columns": null,
            "flex": null,
            "_model_name": "LayoutModel",
            "justify_items": null,
            "grid_row": null,
            "max_height": null,
            "align_content": null,
            "visibility": null,
            "align_self": null,
            "height": null,
            "min_height": null,
            "padding": null,
            "grid_auto_rows": null,
            "grid_gap": null,
            "max_width": null,
            "order": null,
            "_view_module_version": "1.2.0",
            "grid_template_areas": null,
            "object_position": null,
            "object_fit": null,
            "grid_auto_columns": null,
            "margin": null,
            "display": null,
            "left": null
          }
        },
        "b634021ca9ff46b598261ad39350a770": {
          "model_module": "@jupyter-widgets/controls",
          "model_name": "DescriptionStyleModel",
          "state": {
            "_view_name": "StyleView",
            "_model_name": "DescriptionStyleModel",
            "description_width": "",
            "_view_module": "@jupyter-widgets/base",
            "_model_module_version": "1.5.0",
            "_view_count": null,
            "_view_module_version": "1.2.0",
            "_model_module": "@jupyter-widgets/controls"
          }
        },
        "512a5e0e7ee74bfba0d3b2652b609911": {
          "model_module": "@jupyter-widgets/base",
          "model_name": "LayoutModel",
          "state": {
            "_view_name": "LayoutView",
            "grid_template_rows": null,
            "right": null,
            "justify_content": null,
            "_view_module": "@jupyter-widgets/base",
            "overflow": null,
            "_model_module_version": "1.2.0",
            "_view_count": null,
            "flex_flow": null,
            "width": null,
            "min_width": null,
            "border": null,
            "align_items": null,
            "bottom": null,
            "_model_module": "@jupyter-widgets/base",
            "top": null,
            "grid_column": null,
            "overflow_y": null,
            "overflow_x": null,
            "grid_auto_flow": null,
            "grid_area": null,
            "grid_template_columns": null,
            "flex": null,
            "_model_name": "LayoutModel",
            "justify_items": null,
            "grid_row": null,
            "max_height": null,
            "align_content": null,
            "visibility": null,
            "align_self": null,
            "height": null,
            "min_height": null,
            "padding": null,
            "grid_auto_rows": null,
            "grid_gap": null,
            "max_width": null,
            "order": null,
            "_view_module_version": "1.2.0",
            "grid_template_areas": null,
            "object_position": null,
            "object_fit": null,
            "grid_auto_columns": null,
            "margin": null,
            "display": null,
            "left": null
          }
        },
        "64c4af73053f4bd7a37c7b449cdd0c3a": {
          "model_module": "@jupyter-widgets/controls",
          "model_name": "HBoxModel",
          "state": {
            "_view_name": "HBoxView",
            "_dom_classes": [],
            "_model_name": "HBoxModel",
            "_view_module": "@jupyter-widgets/controls",
            "_model_module_version": "1.5.0",
            "_view_count": null,
            "_view_module_version": "1.5.0",
            "box_style": "",
            "layout": "IPY_MODEL_7acf903a52374d26b6e36698d8dc91ad",
            "_model_module": "@jupyter-widgets/controls",
            "children": [
              "IPY_MODEL_a7cd525addf74e8a826e9a42e6e25268",
              "IPY_MODEL_7a00c6ae0201440c84f4fe6361398d6e"
            ]
          }
        },
        "7acf903a52374d26b6e36698d8dc91ad": {
          "model_module": "@jupyter-widgets/base",
          "model_name": "LayoutModel",
          "state": {
            "_view_name": "LayoutView",
            "grid_template_rows": null,
            "right": null,
            "justify_content": null,
            "_view_module": "@jupyter-widgets/base",
            "overflow": null,
            "_model_module_version": "1.2.0",
            "_view_count": null,
            "flex_flow": null,
            "width": null,
            "min_width": null,
            "border": null,
            "align_items": null,
            "bottom": null,
            "_model_module": "@jupyter-widgets/base",
            "top": null,
            "grid_column": null,
            "overflow_y": null,
            "overflow_x": null,
            "grid_auto_flow": null,
            "grid_area": null,
            "grid_template_columns": null,
            "flex": null,
            "_model_name": "LayoutModel",
            "justify_items": null,
            "grid_row": null,
            "max_height": null,
            "align_content": null,
            "visibility": null,
            "align_self": null,
            "height": null,
            "min_height": null,
            "padding": null,
            "grid_auto_rows": null,
            "grid_gap": null,
            "max_width": null,
            "order": null,
            "_view_module_version": "1.2.0",
            "grid_template_areas": null,
            "object_position": null,
            "object_fit": null,
            "grid_auto_columns": null,
            "margin": null,
            "display": null,
            "left": null
          }
        },
        "a7cd525addf74e8a826e9a42e6e25268": {
          "model_module": "@jupyter-widgets/controls",
          "model_name": "FloatProgressModel",
          "state": {
            "_view_name": "ProgressView",
            "style": "IPY_MODEL_1cdfc46bd0284770ba558d985828657f",
            "_dom_classes": [],
            "description": "Downloading: 100%",
            "_model_name": "FloatProgressModel",
            "bar_style": "success",
            "max": 2275437102,
            "_view_module": "@jupyter-widgets/controls",
            "_model_module_version": "1.5.0",
            "value": 2275437102,
            "_view_count": null,
            "_view_module_version": "1.5.0",
            "orientation": "horizontal",
            "min": 0,
            "description_tooltip": null,
            "_model_module": "@jupyter-widgets/controls",
            "layout": "IPY_MODEL_93de70c787e54aceb0ac06e2980980af"
          }
        },
        "7a00c6ae0201440c84f4fe6361398d6e": {
          "model_module": "@jupyter-widgets/controls",
          "model_name": "HTMLModel",
          "state": {
            "_view_name": "HTMLView",
            "style": "IPY_MODEL_6dac640eb29a4e1aa3b768f01db0a0e6",
            "_dom_classes": [],
            "description": "",
            "_model_name": "HTMLModel",
            "placeholder": "​",
            "_view_module": "@jupyter-widgets/controls",
            "_model_module_version": "1.5.0",
            "value": " 2.28G/2.28G [00:45&lt;00:00, 50.0MB/s]",
            "_view_count": null,
            "_view_module_version": "1.5.0",
            "description_tooltip": null,
            "_model_module": "@jupyter-widgets/controls",
            "layout": "IPY_MODEL_39fc4e639dfa4e5e8fe86fc0ad63587c"
          }
        },
        "1cdfc46bd0284770ba558d985828657f": {
          "model_module": "@jupyter-widgets/controls",
          "model_name": "ProgressStyleModel",
          "state": {
            "_view_name": "StyleView",
            "_model_name": "ProgressStyleModel",
            "description_width": "initial",
            "_view_module": "@jupyter-widgets/base",
            "_model_module_version": "1.5.0",
            "_view_count": null,
            "_view_module_version": "1.2.0",
            "bar_color": null,
            "_model_module": "@jupyter-widgets/controls"
          }
        },
        "93de70c787e54aceb0ac06e2980980af": {
          "model_module": "@jupyter-widgets/base",
          "model_name": "LayoutModel",
          "state": {
            "_view_name": "LayoutView",
            "grid_template_rows": null,
            "right": null,
            "justify_content": null,
            "_view_module": "@jupyter-widgets/base",
            "overflow": null,
            "_model_module_version": "1.2.0",
            "_view_count": null,
            "flex_flow": null,
            "width": null,
            "min_width": null,
            "border": null,
            "align_items": null,
            "bottom": null,
            "_model_module": "@jupyter-widgets/base",
            "top": null,
            "grid_column": null,
            "overflow_y": null,
            "overflow_x": null,
            "grid_auto_flow": null,
            "grid_area": null,
            "grid_template_columns": null,
            "flex": null,
            "_model_name": "LayoutModel",
            "justify_items": null,
            "grid_row": null,
            "max_height": null,
            "align_content": null,
            "visibility": null,
            "align_self": null,
            "height": null,
            "min_height": null,
            "padding": null,
            "grid_auto_rows": null,
            "grid_gap": null,
            "max_width": null,
            "order": null,
            "_view_module_version": "1.2.0",
            "grid_template_areas": null,
            "object_position": null,
            "object_fit": null,
            "grid_auto_columns": null,
            "margin": null,
            "display": null,
            "left": null
          }
        },
        "6dac640eb29a4e1aa3b768f01db0a0e6": {
          "model_module": "@jupyter-widgets/controls",
          "model_name": "DescriptionStyleModel",
          "state": {
            "_view_name": "StyleView",
            "_model_name": "DescriptionStyleModel",
            "description_width": "",
            "_view_module": "@jupyter-widgets/base",
            "_model_module_version": "1.5.0",
            "_view_count": null,
            "_view_module_version": "1.2.0",
            "_model_module": "@jupyter-widgets/controls"
          }
        },
        "39fc4e639dfa4e5e8fe86fc0ad63587c": {
          "model_module": "@jupyter-widgets/base",
          "model_name": "LayoutModel",
          "state": {
            "_view_name": "LayoutView",
            "grid_template_rows": null,
            "right": null,
            "justify_content": null,
            "_view_module": "@jupyter-widgets/base",
            "overflow": null,
            "_model_module_version": "1.2.0",
            "_view_count": null,
            "flex_flow": null,
            "width": null,
            "min_width": null,
            "border": null,
            "align_items": null,
            "bottom": null,
            "_model_module": "@jupyter-widgets/base",
            "top": null,
            "grid_column": null,
            "overflow_y": null,
            "overflow_x": null,
            "grid_auto_flow": null,
            "grid_area": null,
            "grid_template_columns": null,
            "flex": null,
            "_model_name": "LayoutModel",
            "justify_items": null,
            "grid_row": null,
            "max_height": null,
            "align_content": null,
            "visibility": null,
            "align_self": null,
            "height": null,
            "min_height": null,
            "padding": null,
            "grid_auto_rows": null,
            "grid_gap": null,
            "max_width": null,
            "order": null,
            "_view_module_version": "1.2.0",
            "grid_template_areas": null,
            "object_position": null,
            "object_fit": null,
            "grid_auto_columns": null,
            "margin": null,
            "display": null,
            "left": null
          }
        }
      }
    }
  },
  "cells": [
    {
      "cell_type": "code",
      "metadata": {
        "id": "Gii72BkHKLQK",
        "outputId": "7fd4b677-14c7-4c13-973d-39b59a17eb9e",
        "colab": {
          "base_uri": "https://localhost:8080/",
          "height": 629
        }
      },
      "source": [
        "pip install --upgrade transformers"
      ],
      "execution_count": 1,
      "outputs": [
        {
          "output_type": "stream",
          "text": [
            "Collecting transformers\n",
            "\u001b[?25l  Downloading https://files.pythonhosted.org/packages/2c/4e/4f1ede0fd7a36278844a277f8d53c21f88f37f3754abf76a5d6224f76d4a/transformers-3.4.0-py3-none-any.whl (1.3MB)\n",
            "\r\u001b[K     |▎                               | 10kB 14.4MB/s eta 0:00:01\r\u001b[K     |▌                               | 20kB 1.9MB/s eta 0:00:01\r\u001b[K     |▉                               | 30kB 2.7MB/s eta 0:00:01\r\u001b[K     |█                               | 40kB 3.1MB/s eta 0:00:01\r\u001b[K     |█▎                              | 51kB 2.3MB/s eta 0:00:01\r\u001b[K     |█▋                              | 61kB 2.7MB/s eta 0:00:01\r\u001b[K     |█▉                              | 71kB 2.9MB/s eta 0:00:01\r\u001b[K     |██                              | 81kB 3.2MB/s eta 0:00:01\r\u001b[K     |██▍                             | 92kB 3.4MB/s eta 0:00:01\r\u001b[K     |██▋                             | 102kB 3.2MB/s eta 0:00:01\r\u001b[K     |██▉                             | 112kB 3.2MB/s eta 0:00:01\r\u001b[K     |███▏                            | 122kB 3.2MB/s eta 0:00:01\r\u001b[K     |███▍                            | 133kB 3.2MB/s eta 0:00:01\r\u001b[K     |███▋                            | 143kB 3.2MB/s eta 0:00:01\r\u001b[K     |████                            | 153kB 3.2MB/s eta 0:00:01\r\u001b[K     |████▏                           | 163kB 3.2MB/s eta 0:00:01\r\u001b[K     |████▍                           | 174kB 3.2MB/s eta 0:00:01\r\u001b[K     |████▊                           | 184kB 3.2MB/s eta 0:00:01\r\u001b[K     |█████                           | 194kB 3.2MB/s eta 0:00:01\r\u001b[K     |█████▏                          | 204kB 3.2MB/s eta 0:00:01\r\u001b[K     |█████▌                          | 215kB 3.2MB/s eta 0:00:01\r\u001b[K     |█████▊                          | 225kB 3.2MB/s eta 0:00:01\r\u001b[K     |██████                          | 235kB 3.2MB/s eta 0:00:01\r\u001b[K     |██████▎                         | 245kB 3.2MB/s eta 0:00:01\r\u001b[K     |██████▌                         | 256kB 3.2MB/s eta 0:00:01\r\u001b[K     |██████▊                         | 266kB 3.2MB/s eta 0:00:01\r\u001b[K     |███████                         | 276kB 3.2MB/s eta 0:00:01\r\u001b[K     |███████▎                        | 286kB 3.2MB/s eta 0:00:01\r\u001b[K     |███████▋                        | 296kB 3.2MB/s eta 0:00:01\r\u001b[K     |███████▉                        | 307kB 3.2MB/s eta 0:00:01\r\u001b[K     |████████                        | 317kB 3.2MB/s eta 0:00:01\r\u001b[K     |████████▍                       | 327kB 3.2MB/s eta 0:00:01\r\u001b[K     |████████▋                       | 337kB 3.2MB/s eta 0:00:01\r\u001b[K     |████████▉                       | 348kB 3.2MB/s eta 0:00:01\r\u001b[K     |█████████▏                      | 358kB 3.2MB/s eta 0:00:01\r\u001b[K     |█████████▍                      | 368kB 3.2MB/s eta 0:00:01\r\u001b[K     |█████████▋                      | 378kB 3.2MB/s eta 0:00:01\r\u001b[K     |██████████                      | 389kB 3.2MB/s eta 0:00:01\r\u001b[K     |██████████▏                     | 399kB 3.2MB/s eta 0:00:01\r\u001b[K     |██████████▍                     | 409kB 3.2MB/s eta 0:00:01\r\u001b[K     |██████████▊                     | 419kB 3.2MB/s eta 0:00:01\r\u001b[K     |███████████                     | 430kB 3.2MB/s eta 0:00:01\r\u001b[K     |███████████▏                    | 440kB 3.2MB/s eta 0:00:01\r\u001b[K     |███████████▌                    | 450kB 3.2MB/s eta 0:00:01\r\u001b[K     |███████████▊                    | 460kB 3.2MB/s eta 0:00:01\r\u001b[K     |████████████                    | 471kB 3.2MB/s eta 0:00:01\r\u001b[K     |████████████▎                   | 481kB 3.2MB/s eta 0:00:01\r\u001b[K     |████████████▌                   | 491kB 3.2MB/s eta 0:00:01\r\u001b[K     |████████████▊                   | 501kB 3.2MB/s eta 0:00:01\r\u001b[K     |█████████████                   | 512kB 3.2MB/s eta 0:00:01\r\u001b[K     |█████████████▎                  | 522kB 3.2MB/s eta 0:00:01\r\u001b[K     |█████████████▌                  | 532kB 3.2MB/s eta 0:00:01\r\u001b[K     |█████████████▉                  | 542kB 3.2MB/s eta 0:00:01\r\u001b[K     |██████████████                  | 552kB 3.2MB/s eta 0:00:01\r\u001b[K     |██████████████▍                 | 563kB 3.2MB/s eta 0:00:01\r\u001b[K     |██████████████▋                 | 573kB 3.2MB/s eta 0:00:01\r\u001b[K     |██████████████▉                 | 583kB 3.2MB/s eta 0:00:01\r\u001b[K     |███████████████▏                | 593kB 3.2MB/s eta 0:00:01\r\u001b[K     |███████████████▍                | 604kB 3.2MB/s eta 0:00:01\r\u001b[K     |███████████████▋                | 614kB 3.2MB/s eta 0:00:01\r\u001b[K     |████████████████                | 624kB 3.2MB/s eta 0:00:01\r\u001b[K     |████████████████▏               | 634kB 3.2MB/s eta 0:00:01\r\u001b[K     |████████████████▍               | 645kB 3.2MB/s eta 0:00:01\r\u001b[K     |████████████████▊               | 655kB 3.2MB/s eta 0:00:01\r\u001b[K     |█████████████████               | 665kB 3.2MB/s eta 0:00:01\r\u001b[K     |█████████████████▏              | 675kB 3.2MB/s eta 0:00:01\r\u001b[K     |█████████████████▌              | 686kB 3.2MB/s eta 0:00:01\r\u001b[K     |█████████████████▊              | 696kB 3.2MB/s eta 0:00:01\r\u001b[K     |██████████████████              | 706kB 3.2MB/s eta 0:00:01\r\u001b[K     |██████████████████▎             | 716kB 3.2MB/s eta 0:00:01\r\u001b[K     |██████████████████▌             | 727kB 3.2MB/s eta 0:00:01\r\u001b[K     |██████████████████▊             | 737kB 3.2MB/s eta 0:00:01\r\u001b[K     |███████████████████             | 747kB 3.2MB/s eta 0:00:01\r\u001b[K     |███████████████████▎            | 757kB 3.2MB/s eta 0:00:01\r\u001b[K     |███████████████████▌            | 768kB 3.2MB/s eta 0:00:01\r\u001b[K     |███████████████████▉            | 778kB 3.2MB/s eta 0:00:01\r\u001b[K     |████████████████████            | 788kB 3.2MB/s eta 0:00:01\r\u001b[K     |████████████████████▎           | 798kB 3.2MB/s eta 0:00:01\r\u001b[K     |████████████████████▋           | 808kB 3.2MB/s eta 0:00:01\r\u001b[K     |████████████████████▉           | 819kB 3.2MB/s eta 0:00:01\r\u001b[K     |█████████████████████           | 829kB 3.2MB/s eta 0:00:01\r\u001b[K     |█████████████████████▍          | 839kB 3.2MB/s eta 0:00:01\r\u001b[K     |█████████████████████▋          | 849kB 3.2MB/s eta 0:00:01\r\u001b[K     |██████████████████████          | 860kB 3.2MB/s eta 0:00:01\r\u001b[K     |██████████████████████▏         | 870kB 3.2MB/s eta 0:00:01\r\u001b[K     |██████████████████████▍         | 880kB 3.2MB/s eta 0:00:01\r\u001b[K     |██████████████████████▊         | 890kB 3.2MB/s eta 0:00:01\r\u001b[K     |███████████████████████         | 901kB 3.2MB/s eta 0:00:01\r\u001b[K     |███████████████████████▏        | 911kB 3.2MB/s eta 0:00:01\r\u001b[K     |███████████████████████▌        | 921kB 3.2MB/s eta 0:00:01\r\u001b[K     |███████████████████████▊        | 931kB 3.2MB/s eta 0:00:01\r\u001b[K     |████████████████████████        | 942kB 3.2MB/s eta 0:00:01\r\u001b[K     |████████████████████████▎       | 952kB 3.2MB/s eta 0:00:01\r\u001b[K     |████████████████████████▌       | 962kB 3.2MB/s eta 0:00:01\r\u001b[K     |████████████████████████▊       | 972kB 3.2MB/s eta 0:00:01\r\u001b[K     |█████████████████████████       | 983kB 3.2MB/s eta 0:00:01\r\u001b[K     |█████████████████████████▎      | 993kB 3.2MB/s eta 0:00:01\r\u001b[K     |█████████████████████████▌      | 1.0MB 3.2MB/s eta 0:00:01\r\u001b[K     |█████████████████████████▉      | 1.0MB 3.2MB/s eta 0:00:01\r\u001b[K     |██████████████████████████      | 1.0MB 3.2MB/s eta 0:00:01\r\u001b[K     |██████████████████████████▎     | 1.0MB 3.2MB/s eta 0:00:01\r\u001b[K     |██████████████████████████▋     | 1.0MB 3.2MB/s eta 0:00:01\r\u001b[K     |██████████████████████████▉     | 1.1MB 3.2MB/s eta 0:00:01\r\u001b[K     |███████████████████████████     | 1.1MB 3.2MB/s eta 0:00:01\r\u001b[K     |███████████████████████████▍    | 1.1MB 3.2MB/s eta 0:00:01\r\u001b[K     |███████████████████████████▋    | 1.1MB 3.2MB/s eta 0:00:01\r\u001b[K     |███████████████████████████▉    | 1.1MB 3.2MB/s eta 0:00:01\r\u001b[K     |████████████████████████████▏   | 1.1MB 3.2MB/s eta 0:00:01\r\u001b[K     |████████████████████████████▍   | 1.1MB 3.2MB/s eta 0:00:01\r\u001b[K     |████████████████████████████▊   | 1.1MB 3.2MB/s eta 0:00:01\r\u001b[K     |█████████████████████████████   | 1.1MB 3.2MB/s eta 0:00:01\r\u001b[K     |█████████████████████████████▏  | 1.1MB 3.2MB/s eta 0:00:01\r\u001b[K     |█████████████████████████████▌  | 1.2MB 3.2MB/s eta 0:00:01\r\u001b[K     |█████████████████████████████▊  | 1.2MB 3.2MB/s eta 0:00:01\r\u001b[K     |██████████████████████████████  | 1.2MB 3.2MB/s eta 0:00:01\r\u001b[K     |██████████████████████████████▎ | 1.2MB 3.2MB/s eta 0:00:01\r\u001b[K     |██████████████████████████████▌ | 1.2MB 3.2MB/s eta 0:00:01\r\u001b[K     |██████████████████████████████▊ | 1.2MB 3.2MB/s eta 0:00:01\r\u001b[K     |███████████████████████████████ | 1.2MB 3.2MB/s eta 0:00:01\r\u001b[K     |███████████████████████████████▎| 1.2MB 3.2MB/s eta 0:00:01\r\u001b[K     |███████████████████████████████▌| 1.2MB 3.2MB/s eta 0:00:01\r\u001b[K     |███████████████████████████████▉| 1.2MB 3.2MB/s eta 0:00:01\r\u001b[K     |████████████████████████████████| 1.3MB 3.2MB/s \n",
            "\u001b[?25hRequirement already satisfied, skipping upgrade: dataclasses; python_version < \"3.7\" in /usr/local/lib/python3.6/dist-packages (from transformers) (0.7)\n",
            "Collecting tokenizers==0.9.2\n",
            "\u001b[?25l  Downloading https://files.pythonhosted.org/packages/7c/a5/78be1a55b2ac8d6a956f0a211d372726e2b1dd2666bb537fea9b03abd62c/tokenizers-0.9.2-cp36-cp36m-manylinux1_x86_64.whl (2.9MB)\n",
            "\u001b[K     |████████████████████████████████| 2.9MB 19.2MB/s \n",
            "\u001b[?25hRequirement already satisfied, skipping upgrade: numpy in /usr/local/lib/python3.6/dist-packages (from transformers) (1.18.5)\n",
            "Requirement already satisfied, skipping upgrade: requests in /usr/local/lib/python3.6/dist-packages (from transformers) (2.23.0)\n",
            "Requirement already satisfied, skipping upgrade: filelock in /usr/local/lib/python3.6/dist-packages (from transformers) (3.0.12)\n",
            "Collecting sentencepiece!=0.1.92\n",
            "\u001b[?25l  Downloading https://files.pythonhosted.org/packages/d4/a4/d0a884c4300004a78cca907a6ff9a5e9fe4f090f5d95ab341c53d28cbc58/sentencepiece-0.1.91-cp36-cp36m-manylinux1_x86_64.whl (1.1MB)\n",
            "\u001b[K     |████████████████████████████████| 1.1MB 32.2MB/s \n",
            "\u001b[?25hRequirement already satisfied, skipping upgrade: regex!=2019.12.17 in /usr/local/lib/python3.6/dist-packages (from transformers) (2019.12.20)\n",
            "Requirement already satisfied, skipping upgrade: packaging in /usr/local/lib/python3.6/dist-packages (from transformers) (20.4)\n",
            "Requirement already satisfied, skipping upgrade: tqdm>=4.27 in /usr/local/lib/python3.6/dist-packages (from transformers) (4.41.1)\n",
            "Requirement already satisfied, skipping upgrade: protobuf in /usr/local/lib/python3.6/dist-packages (from transformers) (3.12.4)\n",
            "Collecting sacremoses\n",
            "\u001b[?25l  Downloading https://files.pythonhosted.org/packages/7d/34/09d19aff26edcc8eb2a01bed8e98f13a1537005d31e95233fd48216eed10/sacremoses-0.0.43.tar.gz (883kB)\n",
            "\u001b[K     |████████████████████████████████| 890kB 34.9MB/s \n",
            "\u001b[?25hRequirement already satisfied, skipping upgrade: chardet<4,>=3.0.2 in /usr/local/lib/python3.6/dist-packages (from requests->transformers) (3.0.4)\n",
            "Requirement already satisfied, skipping upgrade: urllib3!=1.25.0,!=1.25.1,<1.26,>=1.21.1 in /usr/local/lib/python3.6/dist-packages (from requests->transformers) (1.24.3)\n",
            "Requirement already satisfied, skipping upgrade: certifi>=2017.4.17 in /usr/local/lib/python3.6/dist-packages (from requests->transformers) (2020.6.20)\n",
            "Requirement already satisfied, skipping upgrade: idna<3,>=2.5 in /usr/local/lib/python3.6/dist-packages (from requests->transformers) (2.10)\n",
            "Requirement already satisfied, skipping upgrade: pyparsing>=2.0.2 in /usr/local/lib/python3.6/dist-packages (from packaging->transformers) (2.4.7)\n",
            "Requirement already satisfied, skipping upgrade: six in /usr/local/lib/python3.6/dist-packages (from packaging->transformers) (1.15.0)\n",
            "Requirement already satisfied, skipping upgrade: setuptools in /usr/local/lib/python3.6/dist-packages (from protobuf->transformers) (50.3.0)\n",
            "Requirement already satisfied, skipping upgrade: click in /usr/local/lib/python3.6/dist-packages (from sacremoses->transformers) (7.1.2)\n",
            "Requirement already satisfied, skipping upgrade: joblib in /usr/local/lib/python3.6/dist-packages (from sacremoses->transformers) (0.16.0)\n",
            "Building wheels for collected packages: sacremoses\n",
            "  Building wheel for sacremoses (setup.py) ... \u001b[?25l\u001b[?25hdone\n",
            "  Created wheel for sacremoses: filename=sacremoses-0.0.43-cp36-none-any.whl size=893257 sha256=d677fa841147d94458be7a325efa1aec6a2417f2c4a3a489358b0d61670ed666\n",
            "  Stored in directory: /root/.cache/pip/wheels/29/3c/fd/7ce5c3f0666dab31a50123635e6fb5e19ceb42ce38d4e58f45\n",
            "Successfully built sacremoses\n",
            "Installing collected packages: tokenizers, sentencepiece, sacremoses, transformers\n",
            "Successfully installed sacremoses-0.0.43 sentencepiece-0.1.91 tokenizers-0.9.2 transformers-3.4.0\n"
          ],
          "name": "stdout"
        }
      ]
    },
    {
      "cell_type": "code",
      "metadata": {
        "id": "Zn4-PldjKQgd",
        "outputId": "c4a5f37b-4760-4dc5-82d8-9a4d4d64f228",
        "colab": {
          "base_uri": "https://localhost:8080/",
          "height": 262,
          "referenced_widgets": [
            "31b44b3383414f00a3286b20799935d8",
            "a7ba952cfd6d47259463556f6b352261",
            "8dc4c5b0267e4b6ea81342174d29a6fc",
            "e1ad1a6a42dd47d3b12f1813d086ff30",
            "e65196b7943844c7a9cc1855887c8319",
            "e0e1cce0d28c417cb42adab29c8454e2",
            "59b336f15cc2469d8a89da4ef1c88806",
            "efd0c30581b040e996d42ed80af8f751",
            "a051ad19ce8c4f10b479eab174e0fd87",
            "eaaa3c93158943789fa1bb54b9d92077",
            "662534d4068b48ebadbfe4b62ffc4497",
            "eae056dc7803492d8a806d8367590cfc",
            "581751b062c34ec3b394c83c61b55394",
            "80b6fc00d2aa4536ad225c59bc981fa7",
            "44ecd1296d78419e87557629372112e0",
            "d9cf4329efd649e39790e62fe90a186f",
            "cee38910cb2d419d93decd4c8636f920",
            "8811a4ee8c6146babc65a87a1852150a",
            "90a3bda24ebf414cad84a63838c6d044",
            "cf0f2d705d7f4eaca302b2de21f3315e",
            "9314c70557de4d54b81f45ad6632dac2",
            "dcefb303f4fa4d6e947e44ba6d6f3101",
            "8cb3e95802534b8f895e231c29d316e7",
            "4bc363ce9ae043a58b3bf0f52f42e3cf",
            "b6a8df7e5cce4e98b08d704dbefc0912",
            "a7076ce9210042eb86bb81e0419ba9bd",
            "c9ebc6cbbbc34fa6852d1cf4f3481cf3",
            "4f5aee1132fc471e9a3d65fc618905aa",
            "765b1c9e4bfc4e13bda94aa6a79376a0",
            "f05e26a0c9854116a936bd36a3d48ab1",
            "b634021ca9ff46b598261ad39350a770",
            "512a5e0e7ee74bfba0d3b2652b609911",
            "64c4af73053f4bd7a37c7b449cdd0c3a",
            "7acf903a52374d26b6e36698d8dc91ad",
            "a7cd525addf74e8a826e9a42e6e25268",
            "7a00c6ae0201440c84f4fe6361398d6e",
            "1cdfc46bd0284770ba558d985828657f",
            "93de70c787e54aceb0ac06e2980980af",
            "6dac640eb29a4e1aa3b768f01db0a0e6",
            "39fc4e639dfa4e5e8fe86fc0ad63587c"
          ]
        }
      },
      "source": [
        "import torch\n",
        "from transformers import PegasusForConditionalGeneration, PegasusTokenizer\n",
        "model_name = 'tuner007/pegasus_paraphrase'\n",
        "torch_device = 'cuda' if torch.cuda.is_available() else 'cpu'\n",
        "tokenizer = PegasusTokenizer.from_pretrained(model_name)\n",
        "model = PegasusForConditionalGeneration.from_pretrained(model_name).to(torch_device)"
      ],
      "execution_count": 2,
      "outputs": [
        {
          "output_type": "display_data",
          "data": {
            "application/vnd.jupyter.widget-view+json": {
              "model_id": "31b44b3383414f00a3286b20799935d8",
              "version_minor": 0,
              "version_major": 2
            },
            "text/plain": [
              "HBox(children=(FloatProgress(value=0.0, description='Downloading', max=1912529.0, style=ProgressStyle(descript…"
            ]
          },
          "metadata": {
            "tags": []
          }
        },
        {
          "output_type": "stream",
          "text": [
            "\n"
          ],
          "name": "stdout"
        },
        {
          "output_type": "display_data",
          "data": {
            "application/vnd.jupyter.widget-view+json": {
              "model_id": "a051ad19ce8c4f10b479eab174e0fd87",
              "version_minor": 0,
              "version_major": 2
            },
            "text/plain": [
              "HBox(children=(FloatProgress(value=0.0, description='Downloading', max=65.0, style=ProgressStyle(description_w…"
            ]
          },
          "metadata": {
            "tags": []
          }
        },
        {
          "output_type": "stream",
          "text": [
            "\n"
          ],
          "name": "stdout"
        },
        {
          "output_type": "display_data",
          "data": {
            "application/vnd.jupyter.widget-view+json": {
              "model_id": "cee38910cb2d419d93decd4c8636f920",
              "version_minor": 0,
              "version_major": 2
            },
            "text/plain": [
              "HBox(children=(FloatProgress(value=0.0, description='Downloading', max=86.0, style=ProgressStyle(description_w…"
            ]
          },
          "metadata": {
            "tags": []
          }
        },
        {
          "output_type": "stream",
          "text": [
            "\n"
          ],
          "name": "stdout"
        },
        {
          "output_type": "display_data",
          "data": {
            "application/vnd.jupyter.widget-view+json": {
              "model_id": "b6a8df7e5cce4e98b08d704dbefc0912",
              "version_minor": 0,
              "version_major": 2
            },
            "text/plain": [
              "HBox(children=(FloatProgress(value=0.0, description='Downloading', max=1142.0, style=ProgressStyle(description…"
            ]
          },
          "metadata": {
            "tags": []
          }
        },
        {
          "output_type": "stream",
          "text": [
            "\n"
          ],
          "name": "stdout"
        },
        {
          "output_type": "display_data",
          "data": {
            "application/vnd.jupyter.widget-view+json": {
              "model_id": "64c4af73053f4bd7a37c7b449cdd0c3a",
              "version_minor": 0,
              "version_major": 2
            },
            "text/plain": [
              "HBox(children=(FloatProgress(value=0.0, description='Downloading', max=2275437102.0, style=ProgressStyle(descr…"
            ]
          },
          "metadata": {
            "tags": []
          }
        },
        {
          "output_type": "stream",
          "text": [
            "\n"
          ],
          "name": "stdout"
        }
      ]
    },
    {
      "cell_type": "code",
      "metadata": {
        "id": "b2NXZJKIKZAr"
      },
      "source": [
        "def get_response(input_text,num_return_sequences,num_beams):\n",
        "    batch = tokenizer.prepare_seq2seq_batch([input_text],truncation=True,padding='longest',max_length=60).to(torch_device)\n",
        "    translated = model.generate(**batch,max_length=60,num_beams=num_beams, num_return_sequences=num_return_sequences, temperature=1.5)\n",
        "    tgt_text = tokenizer.batch_decode(translated, skip_special_tokens=True)\n",
        "    return tgt_text"
      ],
      "execution_count": 3,
      "outputs": []
    },
    {
      "cell_type": "code",
      "metadata": {
        "id": "spb6a1JbKpLs"
      },
      "source": [
        "num_return = 5\n",
        "num_beams = 10\n",
        "def make_paraphrase(input_sentences):\n",
        "  out_sentences = []\n",
        "  max_pattern_for_each = 5\n",
        "  for sentence in input_sentences:\n",
        "    out_sentences.append(sentence)\n",
        "    ls = [x for x in get_response(sentence,num_return, num_beams)]\n",
        "    sentences = [''.join(i) for i in ls]\n",
        "    for x in sentences:\n",
        "      out_sentences.append(x)\n",
        "  return out_sentences"
      ],
      "execution_count": 4,
      "outputs": []
    },
    {
      "cell_type": "code",
      "metadata": {
        "id": "YAuv-2sbL0jP",
        "outputId": "9d67c18d-02c6-446f-c608-2fcd48720dce",
        "colab": {
          "base_uri": "https://localhost:8080/",
          "height": 54
        }
      },
      "source": [
        "input_array = [\"tell me a joke\",\"what are your services?\",\"what do you offer?\",\"What are the benefits?\",\"who are you\"]\n",
        "print(make_paraphrase(input_array))"
      ],
      "execution_count": 5,
      "outputs": [
        {
          "output_type": "stream",
          "text": [
            "['tell me a joke', 'Tell me a joke.', 'Tell me a funny story.', 'Tell me something funny.', 'Tell me something.', 'Tell me a funny thing.', 'what are your services?', 'What are your services?', 'What are you doing?', 'What services do you offer?', 'What services do you provide?', 'What services are you offering?', 'what do you offer?', 'What do you offer?', 'What do you have to offer?', 'What are you offering?', 'What offer do you have?', 'What are you willing to offer?', 'What are the benefits?', 'What are the benefits?', 'What benefits are there?', 'What benefits do you have?', 'What are some of the benefits?', 'The benefits are what they are.', 'who are you', 'Who are you?', 'What are you doing?', 'Which one are you?', 'Who is this person?', 'What are you?']\n"
          ],
          "name": "stdout"
        }
      ]
    },
    {
      "cell_type": "code",
      "metadata": {
        "id": "-WH1rendL8Jz"
      },
      "source": [
        ""
      ],
      "execution_count": null,
      "outputs": []
    }
  ]
}
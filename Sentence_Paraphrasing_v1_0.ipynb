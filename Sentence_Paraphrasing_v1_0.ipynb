{
  "nbformat": 4,
  "nbformat_minor": 0,
  "metadata": {
    "colab": {
      "name": "Sentence_Paraphrasing_v1.0.ipynb",
      "provenance": [],
      "collapsed_sections": []
    },
    "kernelspec": {
      "name": "python3",
      "display_name": "Python 3"
    }
  },
  "cells": [
    {
      "cell_type": "code",
      "metadata": {
        "id": "HJopRd-ewJlU",
        "outputId": "4cc07e41-0a98-4f4e-eee4-7b2b89ad31b4",
        "colab": {
          "base_uri": "https://localhost:8080/",
          "height": 153
        }
      },
      "source": [
        "import nltk\n",
        "from itertools import product\n",
        "nltk.download('punkt')\n",
        "nltk.download('averaged_perceptron_tagger')\n",
        "nltk.download('wordnet')\n"
      ],
      "execution_count": 1,
      "outputs": [
        {
          "output_type": "stream",
          "text": [
            "[nltk_data] Downloading package punkt to /root/nltk_data...\n",
            "[nltk_data]   Unzipping tokenizers/punkt.zip.\n",
            "[nltk_data] Downloading package averaged_perceptron_tagger to\n",
            "[nltk_data]     /root/nltk_data...\n",
            "[nltk_data]   Unzipping taggers/averaged_perceptron_tagger.zip.\n",
            "[nltk_data] Downloading package wordnet to /root/nltk_data...\n",
            "[nltk_data]   Unzipping corpora/wordnet.zip.\n"
          ],
          "name": "stdout"
        },
        {
          "output_type": "execute_result",
          "data": {
            "text/plain": [
              "True"
            ]
          },
          "metadata": {
            "tags": []
          },
          "execution_count": 1
        }
      ]
    },
    {
      "cell_type": "code",
      "metadata": {
        "id": "-YllNt5jsGFD"
      },
      "source": [
        "from nltk import word_tokenize, pos_tag\n",
        "from nltk.corpus import wordnet as wn\n",
        "import random"
      ],
      "execution_count": 2,
      "outputs": []
    },
    {
      "cell_type": "code",
      "metadata": {
        "id": "hoa3sq48wF-l"
      },
      "source": [
        "ls = []\n",
        "\n",
        "def tag(sentence):\n",
        " words = word_tokenize(sentence)\n",
        " words = pos_tag(words)\n",
        " return words\n",
        "\n",
        "def paraphraseable(tag):\n",
        " return tag.startswith('NN') or tag == 'VB' or tag.startswith('JJ')\n",
        "\n",
        "def pos(tag):\n",
        " if tag.startswith('NN'):\n",
        "  return wn.NOUN\n",
        " elif tag.startswith('V'):\n",
        "  return wn.VERB\n",
        "\n",
        "def synonyms(word, tag):\n",
        "    lemma_lists = [ss.lemmas() for ss in wn.synsets(word, pos(tag))]\n",
        "    lemmas = [lemma.name() for lemma in sum(lemma_lists, [])]\n",
        "    return set(lemmas)\n",
        "\n",
        "def synonymIfExists(sentence):\n",
        " temp_list=[]\n",
        " for (word, t) in tag(sentence):\n",
        "   if paraphraseable(t):\n",
        "    syns = synonyms(word, t)\n",
        "    if syns:\n",
        "     if len(syns) > 1:\n",
        "      yield [word, *list(syns)]\n",
        "      continue\n",
        "   yield [word]\n",
        "\n",
        "def paraphrase(input_sentences):\n",
        "    max_pattern_for_each = 5\n",
        "    out_sentences = []\n",
        "    for sentence in input_sentences:\n",
        "        ls = [x for x in synonymIfExists(sentence)]\n",
        "        # print(ls)\n",
        "        res = list(product(*ls))\n",
        "        print(\"res----\", res)\n",
        "        if len(res) > max_pattern_for_each: \n",
        "          random.shuffle(res[1:])\n",
        "          \n",
        "        # print(res)\n",
        "        sentences = [' '.join(i) for i in res[0:max_pattern_for_each]]\n",
        "        for x in sentences:\n",
        "            out_sentences.append(x)\n",
        "    # print(out_sentences)\n",
        "    return out_sentences"
      ],
      "execution_count": 3,
      "outputs": []
    },
    {
      "cell_type": "code",
      "metadata": {
        "id": "QIu7Je8myvpE",
        "outputId": "ad2b38a0-82a4-4ab5-eb34-c8e6b23bcee0",
        "colab": {
          "base_uri": "https://localhost:8080/",
          "height": 139
        }
      },
      "source": [
        "input_array = [\"tell me a joke\",\"what are your services?\",\"what do you offer?\",\"What are the benefits?\",\"who are you\"]\n",
        "print(paraphrase(input_array))"
      ],
      "execution_count": 4,
      "outputs": [
        {
          "output_type": "stream",
          "text": [
            "res---- [('tell', 'me', 'a', 'joke'), ('tell', 'me', 'a', 'trick'), ('tell', 'me', 'a', 'caper'), ('tell', 'me', 'a', 'joke'), ('tell', 'me', 'a', 'jest'), ('tell', 'me', 'a', 'jocularity'), ('tell', 'me', 'a', 'put-on'), ('tell', 'me', 'a', 'prank'), ('tell', 'me', 'a', 'jape'), ('tell', 'me', 'a', 'laugh'), ('tell', 'me', 'a', 'gag'), ('tell', 'me', 'a', 'antic'), ('say', 'me', 'a', 'joke'), ('say', 'me', 'a', 'trick'), ('say', 'me', 'a', 'caper'), ('say', 'me', 'a', 'joke'), ('say', 'me', 'a', 'jest'), ('say', 'me', 'a', 'jocularity'), ('say', 'me', 'a', 'put-on'), ('say', 'me', 'a', 'prank'), ('say', 'me', 'a', 'jape'), ('say', 'me', 'a', 'laugh'), ('say', 'me', 'a', 'gag'), ('say', 'me', 'a', 'antic'), ('tell', 'me', 'a', 'joke'), ('tell', 'me', 'a', 'trick'), ('tell', 'me', 'a', 'caper'), ('tell', 'me', 'a', 'joke'), ('tell', 'me', 'a', 'jest'), ('tell', 'me', 'a', 'jocularity'), ('tell', 'me', 'a', 'put-on'), ('tell', 'me', 'a', 'prank'), ('tell', 'me', 'a', 'jape'), ('tell', 'me', 'a', 'laugh'), ('tell', 'me', 'a', 'gag'), ('tell', 'me', 'a', 'antic'), ('differentiate', 'me', 'a', 'joke'), ('differentiate', 'me', 'a', 'trick'), ('differentiate', 'me', 'a', 'caper'), ('differentiate', 'me', 'a', 'joke'), ('differentiate', 'me', 'a', 'jest'), ('differentiate', 'me', 'a', 'jocularity'), ('differentiate', 'me', 'a', 'put-on'), ('differentiate', 'me', 'a', 'prank'), ('differentiate', 'me', 'a', 'jape'), ('differentiate', 'me', 'a', 'laugh'), ('differentiate', 'me', 'a', 'gag'), ('differentiate', 'me', 'a', 'antic'), ('distinguish', 'me', 'a', 'joke'), ('distinguish', 'me', 'a', 'trick'), ('distinguish', 'me', 'a', 'caper'), ('distinguish', 'me', 'a', 'joke'), ('distinguish', 'me', 'a', 'jest'), ('distinguish', 'me', 'a', 'jocularity'), ('distinguish', 'me', 'a', 'put-on'), ('distinguish', 'me', 'a', 'prank'), ('distinguish', 'me', 'a', 'jape'), ('distinguish', 'me', 'a', 'laugh'), ('distinguish', 'me', 'a', 'gag'), ('distinguish', 'me', 'a', 'antic'), ('recount', 'me', 'a', 'joke'), ('recount', 'me', 'a', 'trick'), ('recount', 'me', 'a', 'caper'), ('recount', 'me', 'a', 'joke'), ('recount', 'me', 'a', 'jest'), ('recount', 'me', 'a', 'jocularity'), ('recount', 'me', 'a', 'put-on'), ('recount', 'me', 'a', 'prank'), ('recount', 'me', 'a', 'jape'), ('recount', 'me', 'a', 'laugh'), ('recount', 'me', 'a', 'gag'), ('recount', 'me', 'a', 'antic'), ('evidence', 'me', 'a', 'joke'), ('evidence', 'me', 'a', 'trick'), ('evidence', 'me', 'a', 'caper'), ('evidence', 'me', 'a', 'joke'), ('evidence', 'me', 'a', 'jest'), ('evidence', 'me', 'a', 'jocularity'), ('evidence', 'me', 'a', 'put-on'), ('evidence', 'me', 'a', 'prank'), ('evidence', 'me', 'a', 'jape'), ('evidence', 'me', 'a', 'laugh'), ('evidence', 'me', 'a', 'gag'), ('evidence', 'me', 'a', 'antic'), ('severalize', 'me', 'a', 'joke'), ('severalize', 'me', 'a', 'trick'), ('severalize', 'me', 'a', 'caper'), ('severalize', 'me', 'a', 'joke'), ('severalize', 'me', 'a', 'jest'), ('severalize', 'me', 'a', 'jocularity'), ('severalize', 'me', 'a', 'put-on'), ('severalize', 'me', 'a', 'prank'), ('severalize', 'me', 'a', 'jape'), ('severalize', 'me', 'a', 'laugh'), ('severalize', 'me', 'a', 'gag'), ('severalize', 'me', 'a', 'antic'), ('narrate', 'me', 'a', 'joke'), ('narrate', 'me', 'a', 'trick'), ('narrate', 'me', 'a', 'caper'), ('narrate', 'me', 'a', 'joke'), ('narrate', 'me', 'a', 'jest'), ('narrate', 'me', 'a', 'jocularity'), ('narrate', 'me', 'a', 'put-on'), ('narrate', 'me', 'a', 'prank'), ('narrate', 'me', 'a', 'jape'), ('narrate', 'me', 'a', 'laugh'), ('narrate', 'me', 'a', 'gag'), ('narrate', 'me', 'a', 'antic'), ('order', 'me', 'a', 'joke'), ('order', 'me', 'a', 'trick'), ('order', 'me', 'a', 'caper'), ('order', 'me', 'a', 'joke'), ('order', 'me', 'a', 'jest'), ('order', 'me', 'a', 'jocularity'), ('order', 'me', 'a', 'put-on'), ('order', 'me', 'a', 'prank'), ('order', 'me', 'a', 'jape'), ('order', 'me', 'a', 'laugh'), ('order', 'me', 'a', 'gag'), ('order', 'me', 'a', 'antic'), ('separate', 'me', 'a', 'joke'), ('separate', 'me', 'a', 'trick'), ('separate', 'me', 'a', 'caper'), ('separate', 'me', 'a', 'joke'), ('separate', 'me', 'a', 'jest'), ('separate', 'me', 'a', 'jocularity'), ('separate', 'me', 'a', 'put-on'), ('separate', 'me', 'a', 'prank'), ('separate', 'me', 'a', 'jape'), ('separate', 'me', 'a', 'laugh'), ('separate', 'me', 'a', 'gag'), ('separate', 'me', 'a', 'antic'), ('secernate', 'me', 'a', 'joke'), ('secernate', 'me', 'a', 'trick'), ('secernate', 'me', 'a', 'caper'), ('secernate', 'me', 'a', 'joke'), ('secernate', 'me', 'a', 'jest'), ('secernate', 'me', 'a', 'jocularity'), ('secernate', 'me', 'a', 'put-on'), ('secernate', 'me', 'a', 'prank'), ('secernate', 'me', 'a', 'jape'), ('secernate', 'me', 'a', 'laugh'), ('secernate', 'me', 'a', 'gag'), ('secernate', 'me', 'a', 'antic'), ('severalise', 'me', 'a', 'joke'), ('severalise', 'me', 'a', 'trick'), ('severalise', 'me', 'a', 'caper'), ('severalise', 'me', 'a', 'joke'), ('severalise', 'me', 'a', 'jest'), ('severalise', 'me', 'a', 'jocularity'), ('severalise', 'me', 'a', 'put-on'), ('severalise', 'me', 'a', 'prank'), ('severalise', 'me', 'a', 'jape'), ('severalise', 'me', 'a', 'laugh'), ('severalise', 'me', 'a', 'gag'), ('severalise', 'me', 'a', 'antic'), ('assure', 'me', 'a', 'joke'), ('assure', 'me', 'a', 'trick'), ('assure', 'me', 'a', 'caper'), ('assure', 'me', 'a', 'joke'), ('assure', 'me', 'a', 'jest'), ('assure', 'me', 'a', 'jocularity'), ('assure', 'me', 'a', 'put-on'), ('assure', 'me', 'a', 'prank'), ('assure', 'me', 'a', 'jape'), ('assure', 'me', 'a', 'laugh'), ('assure', 'me', 'a', 'gag'), ('assure', 'me', 'a', 'antic'), ('tell_apart', 'me', 'a', 'joke'), ('tell_apart', 'me', 'a', 'trick'), ('tell_apart', 'me', 'a', 'caper'), ('tell_apart', 'me', 'a', 'joke'), ('tell_apart', 'me', 'a', 'jest'), ('tell_apart', 'me', 'a', 'jocularity'), ('tell_apart', 'me', 'a', 'put-on'), ('tell_apart', 'me', 'a', 'prank'), ('tell_apart', 'me', 'a', 'jape'), ('tell_apart', 'me', 'a', 'laugh'), ('tell_apart', 'me', 'a', 'gag'), ('tell_apart', 'me', 'a', 'antic'), ('state', 'me', 'a', 'joke'), ('state', 'me', 'a', 'trick'), ('state', 'me', 'a', 'caper'), ('state', 'me', 'a', 'joke'), ('state', 'me', 'a', 'jest'), ('state', 'me', 'a', 'jocularity'), ('state', 'me', 'a', 'put-on'), ('state', 'me', 'a', 'prank'), ('state', 'me', 'a', 'jape'), ('state', 'me', 'a', 'laugh'), ('state', 'me', 'a', 'gag'), ('state', 'me', 'a', 'antic'), ('recite', 'me', 'a', 'joke'), ('recite', 'me', 'a', 'trick'), ('recite', 'me', 'a', 'caper'), ('recite', 'me', 'a', 'joke'), ('recite', 'me', 'a', 'jest'), ('recite', 'me', 'a', 'jocularity'), ('recite', 'me', 'a', 'put-on'), ('recite', 'me', 'a', 'prank'), ('recite', 'me', 'a', 'jape'), ('recite', 'me', 'a', 'laugh'), ('recite', 'me', 'a', 'gag'), ('recite', 'me', 'a', 'antic'), ('enjoin', 'me', 'a', 'joke'), ('enjoin', 'me', 'a', 'trick'), ('enjoin', 'me', 'a', 'caper'), ('enjoin', 'me', 'a', 'joke'), ('enjoin', 'me', 'a', 'jest'), ('enjoin', 'me', 'a', 'jocularity'), ('enjoin', 'me', 'a', 'put-on'), ('enjoin', 'me', 'a', 'prank'), ('enjoin', 'me', 'a', 'jape'), ('enjoin', 'me', 'a', 'laugh'), ('enjoin', 'me', 'a', 'gag'), ('enjoin', 'me', 'a', 'antic'), ('secern', 'me', 'a', 'joke'), ('secern', 'me', 'a', 'trick'), ('secern', 'me', 'a', 'caper'), ('secern', 'me', 'a', 'joke'), ('secern', 'me', 'a', 'jest'), ('secern', 'me', 'a', 'jocularity'), ('secern', 'me', 'a', 'put-on'), ('secern', 'me', 'a', 'prank'), ('secern', 'me', 'a', 'jape'), ('secern', 'me', 'a', 'laugh'), ('secern', 'me', 'a', 'gag'), ('secern', 'me', 'a', 'antic')]\n",
            "res---- [('what', 'are', 'your', 'services', '?'), ('what', 'are', 'your', 'religious_service', '?'), ('what', 'are', 'your', 'help', '?'), ('what', 'are', 'your', 'services', '?'), ('what', 'are', 'your', 'armed_service', '?'), ('what', 'are', 'your', 'servicing', '?'), ('what', 'are', 'your', 'military_service', '?'), ('what', 'are', 'your', 'divine_service', '?'), ('what', 'are', 'your', 'Service', '?'), ('what', 'are', 'your', 'serve', '?'), ('what', 'are', 'your', 'table_service', '?'), ('what', 'are', 'your', 'overhaul', '?'), ('what', 'are', 'your', 'service_of_process', '?'), ('what', 'are', 'your', 'Robert_William_Service', '?'), ('what', 'are', 'your', 'inspection_and_repair', '?'), ('what', 'are', 'your', 'service', '?'), ('what', 'are', 'your', 'serving', '?'), ('what', 'are', 'your', 'avail', '?')]\n",
            "res---- [('what', 'do', 'you', 'offer', '?'), ('what', 'do', 'you', 'bid', '?'), ('what', 'do', 'you', 'extend', '?'), ('what', 'do', 'you', 'declare_oneself', '?'), ('what', 'do', 'you', 'provide', '?'), ('what', 'do', 'you', 'proffer', '?'), ('what', 'do', 'you', 'tender', '?'), ('what', 'do', 'you', 'put_up', '?'), ('what', 'do', 'you', 'offer', '?'), ('what', 'do', 'you', 'pop_the_question', '?'), ('what', 'do', 'you', 'offer_up', '?'), ('what', 'do', 'you', 'propose', '?'), ('what', 'do', 'you', 'volunteer', '?')]\n",
            "res---- [('What', 'are', 'the', 'benefits', '?'), ('What', 'are', 'the', 'benefit', '?'), ('What', 'are', 'the', 'welfare', '?')]\n",
            "res---- [('who', 'are', 'you')]\n",
            "['tell me a joke', 'tell me a trick', 'tell me a caper', 'tell me a joke', 'tell me a jest', 'what are your services ?', 'what are your religious_service ?', 'what are your help ?', 'what are your services ?', 'what are your armed_service ?', 'what do you offer ?', 'what do you bid ?', 'what do you extend ?', 'what do you declare_oneself ?', 'what do you provide ?', 'What are the benefits ?', 'What are the benefit ?', 'What are the welfare ?', 'who are you']\n"
          ],
          "name": "stdout"
        }
      ]
    },
    {
      "cell_type": "code",
      "metadata": {
        "id": "QQmUfMs7tax7"
      },
      "source": [
        "def paraphrase_before(sentence):\n",
        "    ls = [x for x in synonymIfExists(sentence)]\n",
        "    # print(ls)\n",
        "    res = list(product(*ls))\n",
        "    #  print(res)\n",
        "    sentences = [' '.join(i) for i in res]\n",
        "      \n",
        "    # print(out_sentences)\n",
        "    return sentences"
      ],
      "execution_count": 5,
      "outputs": []
    },
    {
      "cell_type": "code",
      "metadata": {
        "id": "Jvw8ItEbtoBh",
        "outputId": "8ad416ad-10dc-40b5-f83f-b3a5186a76ba",
        "colab": {
          "base_uri": "https://localhost:8080/",
          "height": 54
        }
      },
      "source": [
        "print(paraphrase_before(\"tell me a joke\"))"
      ],
      "execution_count": 6,
      "outputs": [
        {
          "output_type": "stream",
          "text": [
            "['tell me a joke', 'tell me a trick', 'tell me a caper', 'tell me a joke', 'tell me a jest', 'tell me a jocularity', 'tell me a put-on', 'tell me a prank', 'tell me a jape', 'tell me a laugh', 'tell me a gag', 'tell me a antic', 'say me a joke', 'say me a trick', 'say me a caper', 'say me a joke', 'say me a jest', 'say me a jocularity', 'say me a put-on', 'say me a prank', 'say me a jape', 'say me a laugh', 'say me a gag', 'say me a antic', 'tell me a joke', 'tell me a trick', 'tell me a caper', 'tell me a joke', 'tell me a jest', 'tell me a jocularity', 'tell me a put-on', 'tell me a prank', 'tell me a jape', 'tell me a laugh', 'tell me a gag', 'tell me a antic', 'differentiate me a joke', 'differentiate me a trick', 'differentiate me a caper', 'differentiate me a joke', 'differentiate me a jest', 'differentiate me a jocularity', 'differentiate me a put-on', 'differentiate me a prank', 'differentiate me a jape', 'differentiate me a laugh', 'differentiate me a gag', 'differentiate me a antic', 'distinguish me a joke', 'distinguish me a trick', 'distinguish me a caper', 'distinguish me a joke', 'distinguish me a jest', 'distinguish me a jocularity', 'distinguish me a put-on', 'distinguish me a prank', 'distinguish me a jape', 'distinguish me a laugh', 'distinguish me a gag', 'distinguish me a antic', 'recount me a joke', 'recount me a trick', 'recount me a caper', 'recount me a joke', 'recount me a jest', 'recount me a jocularity', 'recount me a put-on', 'recount me a prank', 'recount me a jape', 'recount me a laugh', 'recount me a gag', 'recount me a antic', 'evidence me a joke', 'evidence me a trick', 'evidence me a caper', 'evidence me a joke', 'evidence me a jest', 'evidence me a jocularity', 'evidence me a put-on', 'evidence me a prank', 'evidence me a jape', 'evidence me a laugh', 'evidence me a gag', 'evidence me a antic', 'severalize me a joke', 'severalize me a trick', 'severalize me a caper', 'severalize me a joke', 'severalize me a jest', 'severalize me a jocularity', 'severalize me a put-on', 'severalize me a prank', 'severalize me a jape', 'severalize me a laugh', 'severalize me a gag', 'severalize me a antic', 'narrate me a joke', 'narrate me a trick', 'narrate me a caper', 'narrate me a joke', 'narrate me a jest', 'narrate me a jocularity', 'narrate me a put-on', 'narrate me a prank', 'narrate me a jape', 'narrate me a laugh', 'narrate me a gag', 'narrate me a antic', 'order me a joke', 'order me a trick', 'order me a caper', 'order me a joke', 'order me a jest', 'order me a jocularity', 'order me a put-on', 'order me a prank', 'order me a jape', 'order me a laugh', 'order me a gag', 'order me a antic', 'separate me a joke', 'separate me a trick', 'separate me a caper', 'separate me a joke', 'separate me a jest', 'separate me a jocularity', 'separate me a put-on', 'separate me a prank', 'separate me a jape', 'separate me a laugh', 'separate me a gag', 'separate me a antic', 'secernate me a joke', 'secernate me a trick', 'secernate me a caper', 'secernate me a joke', 'secernate me a jest', 'secernate me a jocularity', 'secernate me a put-on', 'secernate me a prank', 'secernate me a jape', 'secernate me a laugh', 'secernate me a gag', 'secernate me a antic', 'severalise me a joke', 'severalise me a trick', 'severalise me a caper', 'severalise me a joke', 'severalise me a jest', 'severalise me a jocularity', 'severalise me a put-on', 'severalise me a prank', 'severalise me a jape', 'severalise me a laugh', 'severalise me a gag', 'severalise me a antic', 'assure me a joke', 'assure me a trick', 'assure me a caper', 'assure me a joke', 'assure me a jest', 'assure me a jocularity', 'assure me a put-on', 'assure me a prank', 'assure me a jape', 'assure me a laugh', 'assure me a gag', 'assure me a antic', 'tell_apart me a joke', 'tell_apart me a trick', 'tell_apart me a caper', 'tell_apart me a joke', 'tell_apart me a jest', 'tell_apart me a jocularity', 'tell_apart me a put-on', 'tell_apart me a prank', 'tell_apart me a jape', 'tell_apart me a laugh', 'tell_apart me a gag', 'tell_apart me a antic', 'state me a joke', 'state me a trick', 'state me a caper', 'state me a joke', 'state me a jest', 'state me a jocularity', 'state me a put-on', 'state me a prank', 'state me a jape', 'state me a laugh', 'state me a gag', 'state me a antic', 'recite me a joke', 'recite me a trick', 'recite me a caper', 'recite me a joke', 'recite me a jest', 'recite me a jocularity', 'recite me a put-on', 'recite me a prank', 'recite me a jape', 'recite me a laugh', 'recite me a gag', 'recite me a antic', 'enjoin me a joke', 'enjoin me a trick', 'enjoin me a caper', 'enjoin me a joke', 'enjoin me a jest', 'enjoin me a jocularity', 'enjoin me a put-on', 'enjoin me a prank', 'enjoin me a jape', 'enjoin me a laugh', 'enjoin me a gag', 'enjoin me a antic', 'secern me a joke', 'secern me a trick', 'secern me a caper', 'secern me a joke', 'secern me a jest', 'secern me a jocularity', 'secern me a put-on', 'secern me a prank', 'secern me a jape', 'secern me a laugh', 'secern me a gag', 'secern me a antic']\n"
          ],
          "name": "stdout"
        }
      ]
    },
    {
      "cell_type": "code",
      "metadata": {
        "id": "m7NjhInHy4Co",
        "outputId": "cc7c3345-5a09-4bac-b9f2-d233d95dd0b2",
        "colab": {
          "base_uri": "https://localhost:8080/",
          "height": 187
        }
      },
      "source": [
        "paraphrase_before(\"Hi how are you?\")"
      ],
      "execution_count": 9,
      "outputs": [
        {
          "output_type": "execute_result",
          "data": {
            "text/plain": [
              "['Hi how are you ?',\n",
              " 'HI how are you ?',\n",
              " 'hullo how are you ?',\n",
              " 'Aloha_State how are you ?',\n",
              " 'Hawaii how are you ?',\n",
              " 'hello how are you ?',\n",
              " 'how-do-you-do how are you ?',\n",
              " 'howdy how are you ?',\n",
              " \"Hawai'i how are you ?\",\n",
              " 'hi how are you ?']"
            ]
          },
          "metadata": {
            "tags": []
          },
          "execution_count": 9
        }
      ]
    },
    {
      "cell_type": "code",
      "metadata": {
        "id": "bavIFGBQxAF6",
        "outputId": "cc424b37-4f40-4fda-b900-b5324743d561",
        "colab": {
          "base_uri": "https://localhost:8080/",
          "height": 34
        }
      },
      "source": [
        "paraphrase_before(\"I have been there\")"
      ],
      "execution_count": 10,
      "outputs": [
        {
          "output_type": "execute_result",
          "data": {
            "text/plain": [
              "['I have been there']"
            ]
          },
          "metadata": {
            "tags": []
          },
          "execution_count": 10
        }
      ]
    },
    {
      "cell_type": "code",
      "metadata": {
        "id": "q3hadroj6hvj"
      },
      "source": [
        ""
      ],
      "execution_count": null,
      "outputs": []
    }
  ]
}